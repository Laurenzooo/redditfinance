{
 "cells": [
  {
   "cell_type": "code",
   "execution_count": 2,
   "id": "06a6568a",
   "metadata": {
    "scrolled": true
   },
   "outputs": [
    {
     "name": "stderr",
     "output_type": "stream",
     "text": [
      "/tmp/ipykernel_318/1355401195.py:15: DtypeWarning: Columns (5,6,7) have mixed types. Specify dtype option on import or set low_memory=False.\n",
      "  for chunk in pd.read_csv('submissions_all_n_id.csv', chunksize=chunksize, usecols=cols_to_keep):\n",
      "/tmp/ipykernel_318/1355401195.py:15: DtypeWarning: Columns (5,6,7) have mixed types. Specify dtype option on import or set low_memory=False.\n",
      "  for chunk in pd.read_csv('submissions_all_n_id.csv', chunksize=chunksize, usecols=cols_to_keep):\n",
      "/tmp/ipykernel_318/1355401195.py:15: DtypeWarning: Columns (5,6,7) have mixed types. Specify dtype option on import or set low_memory=False.\n",
      "  for chunk in pd.read_csv('submissions_all_n_id.csv', chunksize=chunksize, usecols=cols_to_keep):\n",
      "/tmp/ipykernel_318/1355401195.py:15: DtypeWarning: Columns (5,6,7) have mixed types. Specify dtype option on import or set low_memory=False.\n",
      "  for chunk in pd.read_csv('submissions_all_n_id.csv', chunksize=chunksize, usecols=cols_to_keep):\n",
      "/tmp/ipykernel_318/1355401195.py:15: DtypeWarning: Columns (5,6,7) have mixed types. Specify dtype option on import or set low_memory=False.\n",
      "  for chunk in pd.read_csv('submissions_all_n_id.csv', chunksize=chunksize, usecols=cols_to_keep):\n",
      "/tmp/ipykernel_318/1355401195.py:15: DtypeWarning: Columns (5,6,7) have mixed types. Specify dtype option on import or set low_memory=False.\n",
      "  for chunk in pd.read_csv('submissions_all_n_id.csv', chunksize=chunksize, usecols=cols_to_keep):\n",
      "/tmp/ipykernel_318/1355401195.py:15: DtypeWarning: Columns (5,6,7) have mixed types. Specify dtype option on import or set low_memory=False.\n",
      "  for chunk in pd.read_csv('submissions_all_n_id.csv', chunksize=chunksize, usecols=cols_to_keep):\n",
      "/tmp/ipykernel_318/1355401195.py:15: DtypeWarning: Columns (5,6,7) have mixed types. Specify dtype option on import or set low_memory=False.\n",
      "  for chunk in pd.read_csv('submissions_all_n_id.csv', chunksize=chunksize, usecols=cols_to_keep):\n",
      "/tmp/ipykernel_318/1355401195.py:15: DtypeWarning: Columns (5,6,7) have mixed types. Specify dtype option on import or set low_memory=False.\n",
      "  for chunk in pd.read_csv('submissions_all_n_id.csv', chunksize=chunksize, usecols=cols_to_keep):\n",
      "/tmp/ipykernel_318/1355401195.py:15: DtypeWarning: Columns (5,6,7) have mixed types. Specify dtype option on import or set low_memory=False.\n",
      "  for chunk in pd.read_csv('submissions_all_n_id.csv', chunksize=chunksize, usecols=cols_to_keep):\n"
     ]
    }
   ],
   "source": [
    "import pandas as pd\n",
    "\n",
    "# columns you want to have in the resulting CSV file\n",
    "\n",
    "cols_to_keep = [\n",
    "    'subreddit',\n",
    "    'created',\n",
    "    'title',\n",
    "    'upvote_ratio',\n",
    "    'score',\n",
    "    'num_comments'\n",
    "]\n",
    "\n",
    "\n",
    "\n",
    "chunksize = 10**5  # you may want to adjust it ... \n",
    "for chunk in pd.read_csv('submissions_all_n_id.csv', chunksize=chunksize, usecols=cols_to_keep):\n",
    "    chunk.to_csv('submissions_all_n2_id.csv', mode='a', index=False)"
   ]
  },
  {
   "cell_type": "code",
   "execution_count": null,
   "id": "11c2ecbc",
   "metadata": {},
   "outputs": [],
   "source": []
  }
 ],
 "metadata": {
  "kernelspec": {
   "display_name": "Python 3 (ipykernel)",
   "language": "python",
   "name": "python3"
  },
  "language_info": {
   "codemirror_mode": {
    "name": "ipython",
    "version": 3
   },
   "file_extension": ".py",
   "mimetype": "text/x-python",
   "name": "python",
   "nbconvert_exporter": "python",
   "pygments_lexer": "ipython3",
   "version": "3.10.6"
  }
 },
 "nbformat": 4,
 "nbformat_minor": 5
}
